{
 "cells": [
  {
   "cell_type": "code",
   "execution_count": 1,
   "metadata": {},
   "outputs": [],
   "source": [
    "from sklearn.linear_model import LinearRegression, LogisticRegression\n",
    "import numpy as np\n",
    "import requests\n",
    "\n",
    "import aiohttp\n",
    "import asyncio\n",
    "\n",
    "import nest_asyncio\n",
    "nest_asyncio.apply()\n",
    "\n",
    "base_url = 'http://127.0.0.1:8000'"
   ]
  },
  {
   "cell_type": "markdown",
   "metadata": {},
   "source": [
    "Код вызова последовательного вызова обучения как минимум двух  различных моделей с таким набором данных и параметрами, чтобы обучение одной модели длилось не менее 60 секунд"
   ]
  },
  {
   "cell_type": "code",
   "execution_count": 2,
   "metadata": {},
   "outputs": [],
   "source": [
    "X = [[np.random.randint(0, 100) for i in range(10**5)] for i in range(10**2)]\n",
    "y = [np.random.randint(0, 100) for i in range(10**2)]"
   ]
  },
  {
   "cell_type": "code",
   "execution_count": 3,
   "metadata": {},
   "outputs": [],
   "source": [
    "X_logreg = [[np.random.randint(0, 100) for i in range(10**5)] for i in range(10**2)]\n",
    "y_logreg = [np.random.randint(0, 2) for i in range(10**2)]"
   ]
  },
  {
   "cell_type": "code",
   "execution_count": 4,
   "metadata": {},
   "outputs": [
    {
     "name": "stdout",
     "output_type": "stream",
     "text": [
      "201\n",
      "[{'messeage': 'Model linear_123 trained and saved'}, {'messeage': 'Model logreg_123 trained and saved'}]\n"
     ]
    }
   ],
   "source": [
    "data = [{\n",
    "    \"X\" : X,\n",
    "    \"config\" : {\n",
    "      \"hyperparameters\": {\n",
    "        \"fit_intercept\": True\n",
    "      },\n",
    "      \"id\": \"linear_123\",\n",
    "      \"ml_model_type\": \"linear\"\n",
    "    },\n",
    "    \"y\" : y\n",
    "},\n",
    "{\n",
    "    \"X\" : X_logreg,\n",
    "    \"config\" : {\n",
    "      \"hyperparameters\": {\n",
    "        \"fit_intercept\": True\n",
    "      },\n",
    "      \"id\": \"logreg_123\",\n",
    "      \"ml_model_type\": \"logistic\"\n",
    "    },\n",
    "    \"y\" : y_logreg\n",
    "}\n",
    "]\n",
    "\n",
    "response = requests.post(f'{base_url}/api/v1/models/fit', json=data)\n",
    "\n",
    "print(response.status_code)\n",
    "print(response.json())"
   ]
  },
  {
   "cell_type": "markdown",
   "metadata": {},
   "source": [
    "загрузка моделей"
   ]
  },
  {
   "cell_type": "code",
   "execution_count": null,
   "metadata": {},
   "outputs": [
    {
     "name": "stdout",
     "output_type": "stream",
     "text": [
      "200\n",
      "[{'message': 'Model linear_123 loaded'}]\n",
      "200\n",
      "[{'message': 'Model logreg_123 loaded'}]\n"
     ]
    }
   ],
   "source": [
    "data = {\"id\" : \"linear_123\"}\n",
    "response = requests.post(f'{base_url}/api/v1/models/load', json=data)\n",
    "\n",
    "print(response.status_code)\n",
    "print(response.json())\n",
    "\n",
    "data = {\"id\" : \"logreg_123\"}\n",
    "response = requests.post(f'{base_url}/api/v1/models/load', json=data)\n",
    "\n",
    "print(response.status_code)\n",
    "print(response.json())"
   ]
  },
  {
   "cell_type": "markdown",
   "metadata": {},
   "source": [
    "Асинхронный вызов нескольких предсказаний"
   ]
  },
  {
   "cell_type": "code",
   "execution_count": 7,
   "metadata": {},
   "outputs": [
    {
     "name": "stdout",
     "output_type": "stream",
     "text": [
      "[[{'predictions': [35.0, 40.999999999999936, 12.99999999999988, 10.999999999999893, 65.00000000000014, 41.00000000000002, 23.99999999999986, 95.00000000000009, 85.99999999999989, 2.000000000000014, 92.99999999999983, 29.999999999999947, 19.00000000000001, 49.99999999999999, 74.00000000000011, 12.999999999999964, 34.00000000000005, 94.00000000000011, 52.00000000000003, 47.0, 85.00000000000009, 76.00000000000009, 65.00000000000001, 78.00000000000009, 99.00000000000006, 73.99999999999997, 22.99999999999988, 5.000000000000121, 52.00000000000006, 54.000000000000185, 34.00000000000005, 27.999999999999932, 63.00000000000003, 48.00000000000004, 21.000000000000163, 18.000000000000025, 31.0, 31.00000000000011, 14.999999999999957, 6.000000000000014, 54.00000000000001, 7.000000000000085, 14.999999999999766, 12.999999999999844, 20.000000000000004, 90.9999999999998, 20.99999999999988, 25.99999999999992, 37.9999999999999, 31.99999999999999, 29.99999999999998, 31.999999999999993, 89.0, 49.99999999999998, 0.9999999999998153, 89.99999999999994, 85.99999999999989, 16.000000000000124, 13.999999999999893, 69.99999999999991, 50.00000000000007, 7.9999999999999645, 52.99999999999994, 48.00000000000011, 53.00000000000001, 98.0, 99.00000000000011, 77.00000000000017, 68.99999999999991, 48.99999999999998, 53.000000000000036, 59.00000000000011, 7.000000000000142, 58.000000000000156, 40.99999999999995, 42.00000000000001, 92.0, 18.99999999999997, 54.99999999999994, 22.999999999999815, 94.99999999999974, 61.00000000000004, 58.00000000000009, 11.000000000000064, 53.00000000000007, 27.999999999999986, 73.99999999999994, 7.0, 78.00000000000014, 22.000000000000185, 45.00000000000005, 0.9999999999999929, 91.99999999999994, 63.999999999999986, 50.0, 46.00000000000001, 22.0, 97.99999999999994, 35.999999999999936, 47.99999999999966]}], [{'predictions': [0, 0, 1, 0, 1, 0, 0, 1, 1, 0, 0, 1, 1, 0, 1, 1, 1, 0, 0, 1, 1, 1, 0, 1, 0, 1, 1, 0, 1, 1, 1, 0, 0, 0, 0, 0, 0, 0, 0, 0, 0, 1, 1, 0, 0, 1, 1, 0, 1, 0, 1, 1, 0, 0, 1, 1, 1, 1, 0, 0, 1, 1, 1, 1, 0, 1, 1, 1, 0, 0, 1, 0, 0, 1, 0, 0, 1, 1, 0, 1, 0, 0, 0, 1, 0, 0, 0, 1, 1, 1, 1, 0, 1, 1, 1, 1, 0, 0, 1, 1]}]]\n"
     ]
    }
   ],
   "source": [
    "async def fetch(session, url, data):\n",
    "    async with session.post(url, json=data) as response:\n",
    "        return await response.json()\n",
    "\n",
    "async def main():\n",
    "    urls = [\n",
    "        f\"{base_url}/api/v1/models/predict\",\n",
    "        f\"{base_url}/api/v1/models/predict\"\n",
    "    ]\n",
    "\n",
    "    datas = [{\"id\" : \"linear_123\", \"X\" : X}, {\"id\" : \"logreg_123\", \"X\" : X_logreg}]\n",
    "    \n",
    "    async with aiohttp.ClientSession() as session:\n",
    "        tasks = []\n",
    "        \n",
    "        for url, data in zip(urls, datas):\n",
    "            task = asyncio.create_task(fetch(session, url, data))\n",
    "            tasks.append(task)\n",
    "            \n",
    "        result = await asyncio.gather(*tasks)\n",
    "        print(result)\n",
    "\n",
    "asyncio.run(main())"
   ]
  },
  {
   "cell_type": "markdown",
   "metadata": {},
   "source": [
    "список обученных моделей"
   ]
  },
  {
   "cell_type": "code",
   "execution_count": 8,
   "metadata": {},
   "outputs": [
    {
     "data": {
      "text/plain": [
       "[{'id': 'linear_123', 'type': 'linear'},\n",
       " {'id': 'logreg_123', 'type': 'logistic'}]"
      ]
     },
     "execution_count": 8,
     "metadata": {},
     "output_type": "execute_result"
    }
   ],
   "source": [
    "response = requests.get(f'{base_url}/api/v1/models/list_models')\n",
    "response.json()"
   ]
  },
  {
   "cell_type": "markdown",
   "metadata": {},
   "source": [
    "выгрузка моделей "
   ]
  },
  {
   "cell_type": "code",
   "execution_count": 9,
   "metadata": {},
   "outputs": [
    {
     "name": "stdout",
     "output_type": "stream",
     "text": [
      "[{'message': 'Model linear_123 unloaded'}, {'message': 'Model logreg_123 unloaded'}]\n",
      "<Response [200]>\n"
     ]
    }
   ],
   "source": [
    "response = requests.post(f'{base_url}/api/v1/models/unload')\n",
    "print(response.json())\n",
    "print(response)"
   ]
  },
  {
   "cell_type": "markdown",
   "metadata": {},
   "source": [
    "удаление всех обученных моделей"
   ]
  },
  {
   "cell_type": "code",
   "execution_count": 10,
   "metadata": {},
   "outputs": [
    {
     "data": {
      "text/plain": [
       "[{'message': 'Model linear_123 removed'},\n",
       " {'message': 'Model logreg_123 removed'}]"
      ]
     },
     "execution_count": 10,
     "metadata": {},
     "output_type": "execute_result"
    }
   ],
   "source": [
    "response = requests.delete(f'{base_url}/api/v1/models/remove_all')\n",
    "response.json()"
   ]
  },
  {
   "cell_type": "markdown",
   "metadata": {},
   "source": [
    "снова посмотрим список обученных моделей"
   ]
  },
  {
   "cell_type": "code",
   "execution_count": 11,
   "metadata": {},
   "outputs": [
    {
     "data": {
      "text/plain": [
       "[]"
      ]
     },
     "execution_count": 11,
     "metadata": {},
     "output_type": "execute_result"
    }
   ],
   "source": [
    "response = requests.get(f'{base_url}/api/v1/models/list_models')\n",
    "response.json()"
   ]
  },
  {
   "cell_type": "markdown",
   "metadata": {},
   "source": [
    "# демонстрация обработки исключений"
   ]
  },
  {
   "cell_type": "markdown",
   "metadata": {},
   "source": [
    "обучим модель с неаправильным типом"
   ]
  },
  {
   "cell_type": "code",
   "execution_count": 48,
   "metadata": {},
   "outputs": [
    {
     "name": "stdout",
     "output_type": "stream",
     "text": [
      "{'detail': 'Несуществующий тип модели: llllllllll'}\n"
     ]
    }
   ],
   "source": [
    "data = [{\n",
    "    \"X\" : X,\n",
    "    \"config\" : {\n",
    "      \"hyperparameters\": {\n",
    "        \"fit_intercept\": True\n",
    "      },\n",
    "      \"id\": \"linear_123\",\n",
    "      \"ml_model_type\": \"llllllllll\"\n",
    "    },\n",
    "    \"y\" : y\n",
    "}\n",
    "]\n",
    "\n",
    "response = requests.post(f'{base_url}/api/v1/models/fit', json=data)\n",
    "\n",
    "print(response.json())"
   ]
  },
  {
   "cell_type": "markdown",
   "metadata": {},
   "source": [
    "попробуем обучить с неправильными параметрами модели"
   ]
  },
  {
   "cell_type": "code",
   "execution_count": 16,
   "metadata": {},
   "outputs": [
    {
     "name": "stdout",
     "output_type": "stream",
     "text": [
      "{'detail': 'Некорректные параметры модели'}\n"
     ]
    }
   ],
   "source": [
    "data = [{\n",
    "    \"X\" : X,\n",
    "    \"config\" : {\n",
    "      \"hyperparameters\": {\n",
    "        \"fit_fit_fit\": True\n",
    "      },\n",
    "      \"id\": \"linear_123\",\n",
    "      \"ml_model_type\": \"linear\"\n",
    "    },\n",
    "    \"y\" : y\n",
    "}\n",
    "]\n",
    "\n",
    "response = requests.post(f'{base_url}/api/v1/models/fit', json=data)\n",
    "\n",
    "print(response.json())"
   ]
  },
  {
   "cell_type": "markdown",
   "metadata": {},
   "source": [
    "снова обучим модель правильно"
   ]
  },
  {
   "cell_type": "code",
   "execution_count": 49,
   "metadata": {},
   "outputs": [
    {
     "name": "stdout",
     "output_type": "stream",
     "text": [
      "201\n",
      "[{'messeage': 'Model linear_123 trained and saved'}]\n"
     ]
    }
   ],
   "source": [
    "data = [{\n",
    "    \"X\" : X,\n",
    "    \"config\" : {\n",
    "      \"hyperparameters\": {\n",
    "        \"fit_intercept\": True\n",
    "      },\n",
    "      \"id\": \"linear_123\",\n",
    "      \"ml_model_type\": \"linear\"\n",
    "    },\n",
    "    \"y\" : y\n",
    "}\n",
    "]\n",
    "\n",
    "response = requests.post(f'{base_url}/api/v1/models/fit', json=data)\n",
    "\n",
    "print(response.status_code)\n",
    "print(response.json())"
   ]
  },
  {
   "cell_type": "markdown",
   "metadata": {},
   "source": [
    "попытка загрузить с несуществующим id"
   ]
  },
  {
   "cell_type": "code",
   "execution_count": 17,
   "metadata": {},
   "outputs": [
    {
     "name": "stdout",
     "output_type": "stream",
     "text": [
      "{'detail': 'Несуществующий id модели'}\n"
     ]
    }
   ],
   "source": [
    "data = {\"id\" : \"linear_13\"}\n",
    "response = requests.post(f'{base_url}/api/v1/models/load', json=data)\n",
    "\n",
    "print(response.json())"
   ]
  },
  {
   "cell_type": "markdown",
   "metadata": {},
   "source": [
    "загрузим правильно, что сдеалть predict"
   ]
  },
  {
   "cell_type": "code",
   "execution_count": 50,
   "metadata": {},
   "outputs": [
    {
     "name": "stdout",
     "output_type": "stream",
     "text": [
      "[{'message': 'Model linear_123 loaded'}]\n"
     ]
    }
   ],
   "source": [
    "data = {\"id\" : \"linear_123\"}\n",
    "response = requests.post(f'{base_url}/api/v1/models/load', json=data)\n",
    "\n",
    "print(response.json())"
   ]
  },
  {
   "cell_type": "markdown",
   "metadata": {},
   "source": [
    "Тут отрабатывают несколько raise: на id и размерность данных, продеманстрирую только на размерности данных, так как проверка id идентична предыдущим примерам"
   ]
  },
  {
   "cell_type": "code",
   "execution_count": 37,
   "metadata": {},
   "outputs": [
    {
     "name": "stdout",
     "output_type": "stream",
     "text": [
      "[{'detail': 'Некорректная размерность данных'}]\n"
     ]
    }
   ],
   "source": [
    "async def fetch(session, url, data):\n",
    "    async with session.post(url, json=data) as response:\n",
    "        return await response.json()\n",
    "\n",
    "async def main():\n",
    "    urls = [\n",
    "        f\"{base_url}/api/v1/models/predict\"\n",
    "    ]\n",
    "\n",
    "    datas = [{\"id\" : \"linear_123\", \"X\" : [[1,2,3]]}]\n",
    "    \n",
    "    async with aiohttp.ClientSession() as session:\n",
    "        tasks = []\n",
    "        \n",
    "        for url, data in zip(urls, datas):\n",
    "            task = asyncio.create_task(fetch(session, url, data))\n",
    "            tasks.append(task)\n",
    "            \n",
    "        result = await asyncio.gather(*tasks)\n",
    "        print(result)\n",
    "\n",
    "asyncio.run(main())"
   ]
  },
  {
   "cell_type": "markdown",
   "metadata": {},
   "source": [
    "список обученных моделей до удаления"
   ]
  },
  {
   "cell_type": "code",
   "execution_count": 39,
   "metadata": {},
   "outputs": [
    {
     "data": {
      "text/plain": [
       "[{'id': 'linear_123', 'type': 'linear'}]"
      ]
     },
     "execution_count": 39,
     "metadata": {},
     "output_type": "execute_result"
    }
   ],
   "source": [
    "response = requests.get(f'{base_url}/api/v1/models/list_models')\n",
    "response.json()"
   ]
  },
  {
   "cell_type": "markdown",
   "metadata": {},
   "source": [
    "попытка удалить по неверному id"
   ]
  },
  {
   "cell_type": "code",
   "execution_count": 47,
   "metadata": {},
   "outputs": [
    {
     "data": {
      "text/plain": [
       "{'detail': 'Несуществующий id модели'}"
      ]
     },
     "execution_count": 47,
     "metadata": {},
     "output_type": "execute_result"
    }
   ],
   "source": [
    "id_='linear_1233'\n",
    "response = requests.delete(f'{base_url}/api/v1/models/remove/{id_}', data=id_)\n",
    "response.json()"
   ]
  },
  {
   "cell_type": "code",
   "execution_count": 52,
   "metadata": {},
   "outputs": [
    {
     "data": {
      "text/plain": [
       "[{'message': 'Model linear_123 removed'}]"
      ]
     },
     "execution_count": 52,
     "metadata": {},
     "output_type": "execute_result"
    }
   ],
   "source": [
    "id_='linear_123'\n",
    "response = requests.delete(f'{base_url}/api/v1/models/remove/{id_}', data=id_)\n",
    "response.json()"
   ]
  },
  {
   "cell_type": "code",
   "execution_count": null,
   "metadata": {},
   "outputs": [],
   "source": []
  }
 ],
 "metadata": {
  "kernelspec": {
   "display_name": "Python 3",
   "language": "python",
   "name": "python3"
  },
  "language_info": {
   "codemirror_mode": {
    "name": "ipython",
    "version": 3
   },
   "file_extension": ".py",
   "mimetype": "text/x-python",
   "name": "python",
   "nbconvert_exporter": "python",
   "pygments_lexer": "ipython3",
   "version": "3.10.11"
  }
 },
 "nbformat": 4,
 "nbformat_minor": 2
}
